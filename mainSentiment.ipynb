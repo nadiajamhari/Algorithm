{
 "cells": [
  {
   "cell_type": "code",
   "execution_count": null,
   "metadata": {
    "scrolled": true
   },
   "outputs": [],
   "source": [
    "import import_ipynb\n",
    "import requests\n",
    "import sentiment\n",
    "import plotly\n",
    "import pandas as pd #insertdatatable\n",
    "from plotly.offline import  init_notebook_mode, plot, iplot\n",
    "import plotly.express as px\n",
    "\n",
    "def callSentiment():\n",
    "    file=['Bus','Grab','Ktm','Ferry', 'Flight', 'Mrt', 'Lrt', 'Taxi']\n",
    "    article=['Bus','Grab','Ktm','Ferry', 'Flight', 'Mrt', 'Lrt', 'Taxi']\n",
    "    before=[None]*len(file)\n",
    "    after=[None]*len(file)\n",
    "    nCount=[None]*len(file)\n",
    "    pCount=[None]*len(file)\n",
    "    nPercent=[None]*len(file)\n",
    "    pPercent=[None]*len(file)\n",
    "    compare=[None]*len(file)\n",
    "    finalconc=[None]*len(file)\n",
    "    negatives=sentiment.readNegativeWords()\n",
    "    positives=sentiment.readPositiveWords()\n",
    "\n",
    "    count=0\n",
    "    for file in file:\n",
    "        text=sentiment.readFile(file)\n",
    "        fullwordlist = sentiment.stripNonAlphaNum(text)\n",
    "        before[count]=sentiment.count(fullwordlist)\n",
    "        wordlist = sentiment.removeStopwords(fullwordlist, sentiment.stopwords)\n",
    "        countWords1=sentiment.count(wordlist)\n",
    "        after[count]=countWords1\n",
    "        nCount[count] = sentiment.calculate(negatives, wordlist)\n",
    "        pCount[count] = sentiment.calculate(positives, wordlist)\n",
    "        nPercent[count]= sentiment.calculatePercentage(nCount[count],after[count])\n",
    "        pPercent[count] = sentiment.calculatePercentage(pCount[count],after[count])\n",
    "        compare[count] = sentiment.comparePercent(nPercent[count],pPercent[count])\n",
    "        finalconc[count]=sentiment.comparePositiveNegative(nCount[count],pCount[count])\n",
    "        #to make graph on word frequency\n",
    "        dictionary = sentiment.wordListToFreqDict(wordlist)\n",
    "        sorteddict = sentiment.sortFreqDict(dictionary)\n",
    "        dictionary1 = sentiment.wordListToFreqDict(fullwordlist)\n",
    "        sorteddict1 = sentiment.sortFreqDict(dictionary1)\n",
    "        # plot word frequencies graph for before n after removing stopwords\n",
    "        plot = sentiment.plotFreq(sorteddict, file, 0)\n",
    "        plot1 = sentiment.plotFreq(sorteddict1, file, 1)\n",
    "        count=count+1\n",
    "\n",
    "\n",
    "    df = pd.DataFrame(list(zip(article, before, after, nCount, pCount, nPercent, pPercent, compare, finalconc)),\n",
    "                      columns=['article', 'before', 'after', 'negative', 'positive', '%n', '%p', 'conclusion', 'final'])\n",
    "\n",
    "    df.to_excel(r'Sentiment.xlsx', index=False)\n",
    "\n",
    "    print(df)\n",
    "\n",
    "    #bar graph\n",
    "    fig = px.bar(df, x = \"article\", y = [\"negative\", \"positive\"], title=\"Count positive and negative words each article\")\n",
    "    fig.write_html('countpositivenegative.html', auto_open=True)\n",
    "\n",
    "    #line graph\n",
    "    fig = px.scatter(df, x=\"article\", y=['before','after'], title=\"Count Words Before and After Remove each article\")\n",
    "    fig.update_traces(mode=\"lines+markers+text\")\n",
    "    fig.write_html('countword.html', auto_open=True)"
   ]
  },
  {
   "cell_type": "code",
   "execution_count": null,
   "metadata": {},
   "outputs": [],
   "source": []
  }
 ],
 "metadata": {
  "kernelspec": {
   "display_name": "Python 3",
   "language": "python",
   "name": "python3"
  },
  "language_info": {
   "codemirror_mode": {
    "name": "ipython",
    "version": 3
   },
   "file_extension": ".py",
   "mimetype": "text/x-python",
   "name": "python",
   "nbconvert_exporter": "python",
   "pygments_lexer": "ipython3",
   "version": "3.7.6"
  }
 },
 "nbformat": 4,
 "nbformat_minor": 4
}

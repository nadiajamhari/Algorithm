{
 "cells": [
  {
   "cell_type": "code",
   "execution_count": null,
   "metadata": {
    "scrolled": true
   },
   "outputs": [],
   "source": [
    "import import_ipynb\n",
    "import requests\n",
    "import sentiment\n",
    "import plotly\n",
    "import pandas as pd #insertdatatable\n",
    "from plotly.offline import  init_notebook_mode, plot, iplot\n",
    "import plotly.express as px\n",
    "\n",
    "def callSentiment():\n",
    "    negative_words=sentiment.readNegativeWords()\n",
    "    positive_words=sentiment.readPositiveWords()\n",
    "    file=['bas','grab','ktm','ferry','flight','mrt','lrt','taxi']\n",
    "    article=['bas','grab','ktm','ferry','flight', 'mrt', 'lrt', 'taxi']\n",
    "    before=[None]*len(file)\n",
    "    after = [None]*len(file)\n",
    "    nWords=[None]*len(file)\n",
    "    pWords=[None]*len(file)\n",
    "    result=[None]*len(file)\n",
    "    pPositive=[None]*len(file) #store result persentage\n",
    "    pNegative=[None]*len(file) #store result percentage\n",
    "    finalConcl = [None]* len(file)\n",
    "    count=0\n",
    "    for file in file:\n",
    "        text=sentiment.readFile(file) #send file name to read a file\n",
    "        fullwordlist = sentiment.stripNonAlphaNum(text) #store all words in file in an array\n",
    "        countWords = sentiment.count(fullwordlist)  #count words before remove stop words\n",
    "        before[count]=countWords #store count words before remove stop words\n",
    "        wordlist = sentiment.removeStopwords(fullwordlist, sentiment.stopwords) #remove stopwords\n",
    "        countWords1 = sentiment.count(wordlist) #count words after remove stop words\n",
    "        negativeWords=sentiment.calculate(negative_words,wordlist) #bagi negative words and wordlist\n",
    "        positiveWords=sentiment.calculate(positive_words,wordlist) #bagi positivewords and  wordlist\n",
    "        print(\"for : \"+article[count]) #just for check\n",
    "        nWords[count]=negativeWords #store negative words\n",
    "        pWords[count]=positiveWords #store positive words\n",
    "        after[count]=countWords1 #store total after remove stop words\n",
    "        pCount = sentiment.calculatePercentage(positiveWords,countWords1) #calculate percentages for positive\n",
    "        nCount = sentiment.calculatePercentage(negativeWords,countWords1) #calculate percentages for negative\n",
    "        conclusion =sentiment.comparePercent(nCount, pCount) #compare the percentages\n",
    "        result[count]=conclusion #store conclusion in an array\n",
    "        pPositive[count]=pCount #store percentage positive in an array\n",
    "        pNegative[count]=nCount #store percentage negatvie in an array\n",
    "        comparePositiveNegative = sentiment.comparePositiveNegative(pCount, nCount) #calculate score for solution\n",
    "        finalConcl[count] = comparePositiveNegative #store all score\n",
    "        count=count+1\n",
    "    \n",
    "\n",
    "\n",
    "\n",
    "    df = pd.DataFrame(list(zip(article, before,after,nWords,pWords,pPositive,pNegative,result,finalConcl)),\n",
    "                  columns = ['article','before','after','negative','positive','%p','%n','conclusion','final'])\n",
    "\n",
    "    df.to_excel(r'Sentiment.xlsx', index = False)\n",
    "\n",
    "    print(df)\n",
    "\n",
    "    fig = px.bar(df, x=\"article\", y=[\"negative\",\"positive\"], title=\"Frequency Words\")\n",
    "    fig.write_html('countpositivenegative.html', auto_open=True)\n",
    "\n",
    "\n",
    "    fig = px.scatter(df, x=\"article\", y=[\"before\",\"after\"], title=\"Frequency Words\")\n",
    "    fig.update_traces(mode=\"lines+markers+text\")\n",
    "\n",
    "    fig.write_html('countword.html', auto_open=True)"
   ]
  },
  {
   "cell_type": "code",
   "execution_count": null,
   "metadata": {},
   "outputs": [],
   "source": []
  }
 ],
 "metadata": {
  "kernelspec": {
   "display_name": "Python 3",
   "language": "python",
   "name": "python3"
  },
  "language_info": {
   "codemirror_mode": {
    "name": "ipython",
    "version": 3
   },
   "file_extension": ".py",
   "mimetype": "text/x-python",
   "name": "python",
   "nbconvert_exporter": "python",
   "pygments_lexer": "ipython3",
   "version": "3.7.6"
  }
 },
 "nbformat": 4,
 "nbformat_minor": 4
}

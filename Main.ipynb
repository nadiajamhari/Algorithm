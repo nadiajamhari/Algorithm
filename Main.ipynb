{
 "cells": [
  {
   "cell_type": "code",
   "execution_count": 1,
   "metadata": {},
   "outputs": [
    {
     "name": "stdout",
     "output_type": "stream",
     "text": [
      "importing Jupyter notebook from mainSentiment.ipynb\n",
      "importing Jupyter notebook from sentiment.ipynb\n",
      "for : bas\n",
      "for : grab\n",
      "for : ktm\n",
      "for : ferry\n",
      "for : flight\n",
      "for : mrt\n",
      "for : lrt\n",
      "for : taxi\n",
      "  article  before  after  negative  positive        %p         %n conclusion  \\\n",
      "0     bas     854    503        35        28  5.566600   6.958250   negative   \n",
      "1    grab    1241    714        28        46  6.442577   3.921569   positive   \n",
      "2     ktm     709    433        16        29  6.697460   3.695150   positive   \n",
      "3   ferry    1055    596        15        33  5.536913   2.516779   positive   \n",
      "4  flight     460    310        10        23  7.419355   3.225806   positive   \n",
      "5     mrt    1301    858        30        83  9.673660   3.496503   positive   \n",
      "6     lrt     718    470        51        45  9.574468  10.851064   negative   \n",
      "7    taxi    1600    940        46        45  4.787234   4.893617   negative   \n",
      "\n",
      "       final  \n",
      "0  55.555556  \n",
      "1  62.162162  \n",
      "2  64.444444  \n",
      "3  68.750000  \n",
      "4  69.696970  \n",
      "5  73.451327  \n",
      "6  53.125000  \n",
      "7  50.549451  \n"
     ]
    }
   ],
   "source": [
    "import import_ipynb\n",
    "import mainSentiment\n",
    "from mainSentiment import callSentiment\n",
    "\n",
    "# call from sentiment function\n",
    "S = mainSentiment.callSentiment()\n",
    "\n"
   ]
  },
  {
   "cell_type": "code",
   "execution_count": null,
   "metadata": {},
   "outputs": [],
   "source": []
  }
 ],
 "metadata": {
  "kernelspec": {
   "display_name": "Python 3",
   "language": "python",
   "name": "python3"
  },
  "language_info": {
   "codemirror_mode": {
    "name": "ipython",
    "version": 3
   },
   "file_extension": ".py",
   "mimetype": "text/x-python",
   "name": "python",
   "nbconvert_exporter": "python",
   "pygments_lexer": "ipython3",
   "version": "3.7.6"
  }
 },
 "nbformat": 4,
 "nbformat_minor": 4
}

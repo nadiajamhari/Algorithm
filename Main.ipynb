{
 "cells": [
  {
   "cell_type": "code",
   "execution_count": 2,
   "metadata": {},
   "outputs": [
    {
     "name": "stdout",
     "output_type": "stream",
     "text": [
      "  article  before  after  negative  positive         %n         %p conclusion  \\\n",
      "0     Bus     854    471        45        36   9.554140   7.643312   negative   \n",
      "1    Grab    1241    677        33        55   4.874446   8.124077   positive   \n",
      "2     Ktm     709    395        22        38   5.569620   9.620253   positive   \n",
      "3   Ferry    1055    554        23        48   4.151625   8.664260   positive   \n",
      "4  Flight     460    288        12        40   4.166667  13.888889   positive   \n",
      "5     Mrt    1301    828        32        85   3.864734  10.265700   positive   \n",
      "6     Lrt     718    444        54        50  12.162162  11.261261   negative   \n",
      "7    Taxi    1600    895        47        52   5.251397   5.810056   positive   \n",
      "\n",
      "       final  \n",
      "0  55.555556  \n",
      "1  62.500000  \n",
      "2  63.333333  \n",
      "3  67.605634  \n",
      "4  76.923077  \n",
      "5  72.649573  \n",
      "6  51.923077  \n",
      "7  52.525253  \n"
     ]
    }
   ],
   "source": [
    "import import_ipynb\n",
    "import mainSentiment\n",
    "\n",
    "\n",
    "# run your code here ;\n",
    "S = mainSentiment.callSentiment()\n",
    "\n"
   ]
  },
  {
   "cell_type": "code",
   "execution_count": null,
   "metadata": {},
   "outputs": [],
   "source": []
  }
 ],
 "metadata": {
  "kernelspec": {
   "display_name": "Python 3",
   "language": "python",
   "name": "python3"
  },
  "language_info": {
   "codemirror_mode": {
    "name": "ipython",
    "version": 3
   },
   "file_extension": ".py",
   "mimetype": "text/x-python",
   "name": "python",
   "nbconvert_exporter": "python",
   "pygments_lexer": "ipython3",
   "version": "3.7.6"
  }
 },
 "nbformat": 4,
 "nbformat_minor": 4
}
